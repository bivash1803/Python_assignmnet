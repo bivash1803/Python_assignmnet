{
 "cells": [
  {
   "cell_type": "code",
   "execution_count": 19,
   "metadata": {},
   "outputs": [
    {
     "name": "stdout",
     "output_type": "stream",
     "text": [
      "['Bing', 'Images', 'Videos', 'Translate', 'Videos', 'Translate', 'Maps', 'News', 'Travel', 'MSN', 'Esports', 'TakeLessons', 'Health', 'Office', 'Outlook', 'Word', 'Excel', 'PowerPoint', 'OneNote', 'Sway', 'OneDrive', 'Calendar', 'People', 'Languages:', 'हिंदी', 'বাংলা', 'اردو', 'ਪੰਜਾਬੀ', 'मराठी', 'తెలుగు', 'தமிழ்', 'ಕನ್ನಡ', 'ગુજરાતી', 'മലയാളം', 'ଓଡ଼ିଆ', 'Get the new Bing Wallpaper app', 'Wheat field in Ukraine', '© Yuriy Kulik/Getty Images', 'Amber waves of grain', 'Image of the day', 'Amber waves of grain', '© Yuriy Kulik/Getty Images', 'Ukrainian Independence Day takes on greater meaning this year, as Russian troops occupy its eastern provinces and the invader’s shells rain down on its citizens. On February 24, Russian President Vladimir Putin ordered the invasion of Ukraine in a major escalation of the Russo-Ukrainian War that began with Russia’s annexation of Crimea in 2014. NATO and Europe have rallied to Ukraine’s cause, and a war that many expected to last weeks has stretched into months, with the Western-backed Ukrainian forces thwarting Putin’s ambitions and not showing any signs of relenting.', 'Learn more', 'Make Bing your homepage', 'Experience beauty every day', \"Never miss a moment and keep search at your fingertips. Just set Bing as your browser's homepage with a few easy steps!\", 'Sign in']\n"
     ]
    }
   ],
   "source": [
    "from bs4 import BeautifulSoup\n",
    "import urllib3\n",
    "\n",
    "url = \"https://www.bing.com\"\n",
    "\n",
    "def antiHTML(url):\n",
    "    response = urllib.request.urlopen(url).read()\n",
    "    soup = BeautifulSoup(response,'html.parser')\n",
    "    strips = list(soup.stripped_strings)\n",
    "    return strips\n",
    "\n",
    "print(antiHTML(url))"
   ]
  },
  {
   "cell_type": "code",
   "execution_count": null,
   "metadata": {},
   "outputs": [],
   "source": []
  }
 ],
 "metadata": {
  "kernelspec": {
   "display_name": "Python 3.10.5 64-bit",
   "language": "python",
   "name": "python3"
  },
  "language_info": {
   "codemirror_mode": {
    "name": "ipython",
    "version": 3
   },
   "file_extension": ".py",
   "mimetype": "text/x-python",
   "name": "python",
   "nbconvert_exporter": "python",
   "pygments_lexer": "ipython3",
   "version": "3.10.5"
  },
  "orig_nbformat": 4,
  "vscode": {
   "interpreter": {
    "hash": "369f2c481f4da34e4445cda3fffd2e751bd1c4d706f27375911949ba6bb62e1c"
   }
  }
 },
 "nbformat": 4,
 "nbformat_minor": 2
}
