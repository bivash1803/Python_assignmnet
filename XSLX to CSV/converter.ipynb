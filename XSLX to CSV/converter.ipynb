{
 "cells": [
  {
   "cell_type": "code",
   "execution_count": 1,
   "id": "6e26d313-f165-402d-8694-c82c3b41b9bc",
   "metadata": {},
   "outputs": [
    {
     "name": "stdout",
     "output_type": "stream",
     "text": [
      "-   Food Sales.csv\n",
      "-   Office Supply Sales.csv\n"
     ]
    }
   ],
   "source": [
    "import pandas as pd\n",
    "import os\n",
    "import glob\n",
    "filepath = str(r\"Sample_Data - Python Assignment.xlsx\")\n",
    "data = pd.read_excel(filepath, sheet_name=None)\n",
    "\n",
    "for sheet_name, df in data.items():\n",
    "    df.to_csv(f'{sheet_name}.csv')\n",
    "\n",
    "filename=os.path.basename(filepath)\n",
    "path=filepath.strip(filename)\n",
    "csv_files = glob.glob(path + \"*.csv\")\n",
    "\n",
    "for f in csv_files:\n",
    "    print('-  ', f.split(\"//\")[-1])"
   ]
  },
  {
   "cell_type": "code",
   "execution_count": null,
   "id": "81cadbb9-0dd9-4639-8152-d39b3752f927",
   "metadata": {},
   "outputs": [],
   "source": []
  }
 ],
 "metadata": {
  "kernelspec": {
   "display_name": "Python 3 (ipykernel)",
   "language": "python",
   "name": "python3"
  },
  "language_info": {
   "codemirror_mode": {
    "name": "ipython",
    "version": 3
   },
   "file_extension": ".py",
   "mimetype": "text/x-python",
   "name": "python",
   "nbconvert_exporter": "python",
   "pygments_lexer": "ipython3",
   "version": "3.9.12"
  }
 },
 "nbformat": 4,
 "nbformat_minor": 5
}
