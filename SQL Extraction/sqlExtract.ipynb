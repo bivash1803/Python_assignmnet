{
 "cells": [
  {
   "cell_type": "code",
   "execution_count": 2,
   "id": "995dd6ad-48e6-4041-a51e-e1f49658e841",
   "metadata": {},
   "outputs": [
    {
     "name": "stdout",
     "output_type": "stream",
     "text": [
      "sample_stored_procedure.json\n"
     ]
    }
   ],
   "source": [
    "#importing library\n",
    "import json\n",
    "import os\n",
    "\n",
    "\n",
    "#extracting filename from filepath\n",
    "filename = os.path.basename(\"sample_stored_procedure.sql\")\n",
    "\n",
    "# Read the sql file\n",
    "with open(filename, 'r') as sql_query:\n",
    "    query_string = sql_query.read()\n",
    "    \n",
    "#splitting sql queries in sql file\n",
    "codes = query_string.split(\";\")\n",
    "    \n",
    "#initilizing an empty list to add in information\n",
    "json_list = []\n",
    "#first code in sql file\n",
    "code_id = 1\n",
    "#looping ot extract information\n",
    "for code in codes:\n",
    "    code_type = code.strip().split(' ')[0].strip()\n",
    "    local_dict = {\n",
    "        \"statement_id\": code_id,\n",
    "        \"statement_type\": code_type,\n",
    "        \"target_table_name\": []\n",
    "    }\n",
    "        \n",
    "    #splitting lines  \n",
    "    statements = code.splitlines()\n",
    "    code_id += 1\n",
    "        \n",
    "    #looping to strip table names and other information\n",
    "    for statement in statements:\n",
    "        for type in [\"FROM\",\"JOIN\"]:\n",
    "            if statement.find(type) != -1:\n",
    "                table_name = statement.strip().split(type)[1]\n",
    "                if table_name.strip().find(\" \") != -1:\n",
    "                    table_name\n",
    "                if table_name.find(\".\") != -1:\n",
    "                    table_name = table_name.split(\".\")[0]\n",
    "                    \n",
    "                #adding to the details to dictionary\n",
    "                local_dict[\"target_table_name\"].append({\n",
    "                    \"type\": type,\n",
    "                    \"name\": table_name,\n",
    "                    \"full query\": statement\n",
    "                })\n",
    "                    \n",
    "    #appending the dictionry to the list            \n",
    "    json_list.append(local_dict)\n",
    "\n",
    "#writing the information to a json file and savinf it    \n",
    "file_json = filename.replace('.sql','.json')\n",
    "with open(file_json,'w') as wf:\n",
    "    json.dump(json_list,wf,indent=4)\n",
    "    print(file_json)"
   ]
  },
  {
   "cell_type": "code",
   "execution_count": null,
   "id": "ab7f0261-8f9b-4f91-846a-d7dcfb6a951a",
   "metadata": {},
   "outputs": [],
   "source": []
  },
  {
   "cell_type": "code",
   "execution_count": null,
   "id": "94d780e0-4392-47e5-936e-f980491edaf8",
   "metadata": {},
   "outputs": [],
   "source": []
  }
 ],
 "metadata": {
  "kernelspec": {
   "display_name": "Python 3 (ipykernel)",
   "language": "python",
   "name": "python3"
  },
  "language_info": {
   "codemirror_mode": {
    "name": "ipython",
    "version": 3
   },
   "file_extension": ".py",
   "mimetype": "text/x-python",
   "name": "python",
   "nbconvert_exporter": "python",
   "pygments_lexer": "ipython3",
   "version": "3.9.12"
  }
 },
 "nbformat": 4,
 "nbformat_minor": 5
}
